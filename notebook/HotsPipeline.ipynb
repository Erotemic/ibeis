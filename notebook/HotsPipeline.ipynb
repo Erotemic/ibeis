{
 "metadata": {
  "name": "",
  "signature": "sha256:87b29569a40d7e3a06aa7d130f9e40d2529bc3750b00e0170210607d10a9c81b"
 },
 "nbformat": 3,
 "nbformat_minor": 0,
 "worksheets": [
  {
   "cells": [
    {
     "cell_type": "code",
     "collapsed": false,
     "input": [
      ">>> from ibeis.model.hots.match_chips4 import *  # NOQA\n",
      ">>> import ibeis\n",
      ">>> qaid_list = [1]\n",
      ">>> rowid_list = daid_list\n",
      ">>> daid_list = [1, 2, 3, 4]\n",
      ">>> ibs = ibeis.test_main(db='testdb1')  #doctest: +ELLIPSIS\n"
     ],
     "language": "python",
     "metadata": {},
     "outputs": [
      {
       "output_type": "stream",
       "stream": "stdout",
       "text": [
        "[!plottool] matplotlib has already been initialized\n",
        "[main] _init_ibeis()\n",
        "[ibs._init_dirs] ibs.dbdir = '/media/Store/data/work/testdb1'\n"
       ]
      },
      {
       "output_type": "stream",
       "stream": "stdout",
       "text": [
        "[ibs] successfully loaded config\n"
       ]
      }
     ],
     "prompt_number": 3
    },
    {
     "cell_type": "code",
     "collapsed": false,
     "input": [
      "rowid_list"
     ],
     "language": "python",
     "metadata": {},
     "outputs": [
      {
       "metadata": {},
       "output_type": "pyout",
       "prompt_number": 4,
       "text": [
        "[1, 2, 3, 4]"
       ]
      }
     ],
     "prompt_number": 4
    },
    {
     "cell_type": "code",
     "collapsed": false,
     "input": [
      ">>> from ibeis.model.hots.neighbor_index import *  # NOQA\n",
      ">>> vecs_list = ibs.get_annot_desc(daid_list)\n"
     ],
     "language": "python",
     "metadata": {},
     "outputs": []
    }
   ],
   "metadata": {}
  }
 ]
}