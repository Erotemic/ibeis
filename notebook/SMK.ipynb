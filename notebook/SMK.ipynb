{
 "metadata": {
  "name": "",
  "signature": "sha256:c0e85fbce38a70a40ae4cd842eddd8762955cbd84b2cee93b498cf45d54a72d8"
 },
 "nbformat": 3,
 "nbformat_minor": 0,
 "worksheets": [
  {
   "cells": [
    {
     "cell_type": "code",
     "collapsed": false,
     "input": [
      "import ibeis\n",
      "import vtool\n",
      "import utool\n",
      "import numpy as np\n",
      "import numpy.linalg as npl\n",
      "np.set_printoptions(precision=2)"
     ],
     "language": "python",
     "metadata": {},
     "outputs": [],
     "prompt_number": 1
    },
    {
     "cell_type": "code",
     "collapsed": false,
     "input": [
      "ibeis.ensure_pz_mtest()\n",
      "ibs = ibeis.opendb('PZ_MTEST')"
     ],
     "language": "python",
     "metadata": {},
     "outputs": [
      {
       "output_type": "stream",
       "stream": "stdout",
       "text": [
        "have mtest_dir='F:/data/work/PZ_MTEST'\n",
        "[ibs._init_dirs] ibs.dbdir = 'F:\\\\data\\\\work\\\\PZ_MTEST'\n",
        "[ensure_correct_version] Database version: u'1.0.1' | Expected version: '1.0.1' "
       ]
      },
      {
       "output_type": "stream",
       "stream": "stdout",
       "text": [
        "\n",
        "[ibs] building default config\n"
       ]
      }
     ],
     "prompt_number": 2
    },
    {
     "cell_type": "code",
     "collapsed": false,
     "input": [
      "taids = ibs.get_valid_aids()\n",
      "tvecs_list = ibs.get_annot_desc(taids)\n",
      "tvec_list = np.vstack(tvecs_list)\n",
      "print(len(tvecs_list))\n",
      "print(len(tvec_list))\n"
     ],
     "language": "python",
     "metadata": {},
     "outputs": [
      {
       "output_type": "stream",
       "stream": "stdout",
       "text": [
        "119\n",
        "120590\n"
       ]
      }
     ],
     "prompt_number": 3
    },
    {
     "cell_type": "code",
     "collapsed": false,
     "input": [
      "#import pyflann\n",
      "#flann = pyflann.FLANN()\n",
      "#help(flann.kmeans)\n",
      "#centroids = flann.kmeans(tvec_list, num_clusters=1000, max_iterations=100)"
     ],
     "language": "python",
     "metadata": {},
     "outputs": [],
     "prompt_number": 4
    },
    {
     "cell_type": "code",
     "collapsed": false,
     "input": [
      "labels, words = vtool.clustering.precompute_akmeans(tvec_list, 1000, 30, cache_dir='.')"
     ],
     "language": "python",
     "metadata": {},
     "outputs": [
      {
       "output_type": "stream",
       "stream": "stdout",
       "text": [
        "[akmeans] pre_akmeans()\n",
        "[cache] * load_cPkl('akmeans_clusters_FLANN()_DPTS((120590,128)0&q+ina20q33dfii).cPkl', data)"
       ]
      },
      {
       "output_type": "stream",
       "stream": "stdout",
       "text": [
        "\n",
        "[cache] * load_cPkl('akmeans_datax2cl_FLANN()_DPTS((120590,128)0&q+ina20q33dfii).cPkl', data)\n",
        "[akmeans.precompute] load successful\n"
       ]
      }
     ],
     "prompt_number": 5
    },
    {
     "cell_type": "code",
     "collapsed": false,
     "input": [
      "print(words.shape)"
     ],
     "language": "python",
     "metadata": {},
     "outputs": [
      {
       "output_type": "stream",
       "stream": "stdout",
       "text": [
        "(1000, 128)\n"
       ]
      }
     ],
     "prompt_number": 6
    },
    {
     "cell_type": "code",
     "collapsed": false,
     "input": [
      "help(vtool.nearest_neighbors.flann_cache)"
     ],
     "language": "python",
     "metadata": {},
     "outputs": [
      {
       "output_type": "stream",
       "stream": "stdout",
       "text": [
        "Help on function flann_cache in module vtool.nearest_neighbors:\n",
        "\n",
        "flann_cache(dpts, cache_dir=None, cfgstr='', flann_params=None, use_cache=True, save=True, use_params_hash=True, use_data_hash=True)\n",
        "    Tries to load a cached flann index before doing anything\n",
        "    from vtool.nn\n",
        "\n"
       ]
      }
     ],
     "prompt_number": 7
    },
    {
     "cell_type": "code",
     "collapsed": false,
     "input": [
      "help(vtool.clustering.precompute_akmeans)"
     ],
     "language": "python",
     "metadata": {},
     "outputs": [
      {
       "output_type": "stream",
       "stream": "stdout",
       "text": [
        "Help on function precompute_akmeans in module vtool.clustering:\n",
        "\n",
        "precompute_akmeans(data, num_clusters, max_iters=5, flann_params={}, cache_dir=None, force_recomp=False, use_data_hash=True, cfgstr='', refine=False, akmeans_cfgstr=None)\n",
        "    precompute aproximate kmeans with builtin caching\n",
        "\n"
       ]
      }
     ],
     "prompt_number": 8
    },
    {
     "cell_type": "code",
     "collapsed": false,
     "input": [
      "centroid_flann = vtool.nearest_neighbors.flann_cache(words, cache_dir='.', flann_params={})"
     ],
     "language": "python",
     "metadata": {},
     "outputs": [
      {
       "output_type": "stream",
       "stream": "stdout",
       "text": [
        "...flann_cache cfgstr = '_FLANN()_DPTS((1000,128)f6rp+s93u4pl72o7)': \n",
        "...flann cache hit\n"
       ]
      }
     ],
     "prompt_number": 9
    },
    {
     "cell_type": "code",
     "collapsed": false,
     "input": [
      "indexes, dists = centroid_flann.nn_index(tvec_list, 1) \n",
      "print(indexes.shape)"
     ],
     "language": "python",
     "metadata": {},
     "outputs": [
      {
       "output_type": "stream",
       "stream": "stdout",
       "text": [
        "(120590,)\n"
       ]
      }
     ],
     "prompt_number": 10
    },
    {
     "cell_type": "code",
     "collapsed": false,
     "input": [
      "wx2_tvec = utool.group_items(tvec_list.tolist(), indexes.tolist())"
     ],
     "language": "python",
     "metadata": {},
     "outputs": [],
     "prompt_number": 11
    },
    {
     "cell_type": "code",
     "collapsed": false,
     "input": [
      "word_index = list(wx2_tvec.keys())[0]\n",
      "vecs = np.array(wx2_tvec[word_index], dtype=np.float64)\n",
      "word = np.array(words[word_index], dtype=np.float64)\n",
      "residuals = np.array([word - vec for vec in vecs])\n",
      "residuals_n = vtool.linalg.normalize_rows(residuals)\n",
      "#print(vecs)\n",
      "#print(residuals)\n",
      "print(residuals_n)\n",
      "print(residuals_n.shape)\n",
      "print((residuals_n ** 2).sum(-1))\n",
      "#print(word)\n"
     ],
     "language": "python",
     "metadata": {},
     "outputs": [
      {
       "output_type": "stream",
       "stream": "stdout",
       "text": [
        "[[ 0.14  0.06  0.04 ..., -0.01  0.06  0.06]\n",
        " [ 0.15  0.06  0.04 ...,  0.03  0.01 -0.09]\n",
        " [ 0.15  0.06  0.03 ...,  0.02 -0.18  0.02]\n",
        " ..., \n",
        " [-0.25 -0.15  0.03 ...,  0.    0.02  0.06]\n",
        " [-0.3   0.07  0.04 ..., -0.01  0.02 -0.05]\n",
        " [-0.25  0.03  0.03 ...,  0.03  0.07  0.05]]\n",
        "(93, 128)\n",
        "[ 1.  1.  1.  1.  1.  1.  1.  1.  1.  1.  1.  1.  1.  1.  1.  1.  1.  1.\n",
        "  1.  1.  1.  1.  1.  1.  1.  1.  1.  1.  1.  1.  1.  1.  1.  1.  1.  1.\n",
        "  1.  1.  1.  1.  1.  1.  1.  1.  1.  1.  1.  1.  1.  1.  1.  1.  1.  1.\n",
        "  1.  1.  1.  1.  1.  1.  1.  1.  1.  1.  1.  1.  1.  1.  1.  1.  1.  1.\n",
        "  1.  1.  1.  1.  1.  1.  1.  1.  1.  1.  1.  1.  1.  1.  1.  1.  1.  1.\n",
        "  1.  1.  1.]\n"
       ]
      }
     ],
     "prompt_number": 12
    },
    {
     "cell_type": "code",
     "collapsed": false,
     "input": [
      "# Compare each residual vec to all others in this word index\n",
      "rvecs = residuals_n\n",
      "similarity_matrix = (rvecs.dot(rvecs.T))\n",
      "print(similarity_matrix)\n",
      "print(similarity_matrix.shape)"
     ],
     "language": "python",
     "metadata": {},
     "outputs": [
      {
       "output_type": "stream",
       "stream": "stdout",
       "text": [
        "[[ 1.    0.24 -0.12 ..., -0.18 -0.03 -0.1 ]\n",
        " [ 0.24  1.   -0.01 ..., -0.35  0.4  -0.1 ]\n",
        " [-0.12 -0.01  1.   ..., -0.01 -0.29  0.01]\n",
        " ..., \n",
        " [-0.18 -0.35 -0.01 ...,  1.   -0.06 -0.03]\n",
        " [-0.03  0.4  -0.29 ..., -0.06  1.    0.38]\n",
        " [-0.1  -0.1   0.01 ..., -0.03  0.38  1.  ]]\n",
        "(93, 93)\n"
       ]
      }
     ],
     "prompt_number": 13
    },
    {
     "cell_type": "code",
     "collapsed": false,
     "input": [],
     "language": "python",
     "metadata": {},
     "outputs": [],
     "prompt_number": 13
    },
    {
     "cell_type": "code",
     "collapsed": false,
     "input": [],
     "language": "python",
     "metadata": {},
     "outputs": [],
     "prompt_number": 13
    },
    {
     "cell_type": "code",
     "collapsed": false,
     "input": [
      "\n",
      "\n"
     ],
     "language": "python",
     "metadata": {},
     "outputs": [],
     "prompt_number": 13
    },
    {
     "cell_type": "code",
     "collapsed": false,
     "input": [],
     "language": "python",
     "metadata": {},
     "outputs": [],
     "prompt_number": 13
    },
    {
     "cell_type": "code",
     "collapsed": false,
     "input": [],
     "language": "python",
     "metadata": {},
     "outputs": [],
     "prompt_number": 13
    },
    {
     "cell_type": "code",
     "collapsed": false,
     "input": [],
     "language": "python",
     "metadata": {},
     "outputs": [],
     "prompt_number": 13
    }
   ],
   "metadata": {}
  }
 ]
}