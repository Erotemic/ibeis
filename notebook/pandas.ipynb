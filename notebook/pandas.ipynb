{
 "metadata": {
  "name": "",
  "signature": "sha256:f096e7150d2f9863e8d0d64ae83dd7e1c9c0baec44ae17e64badb0ddcca64043"
 },
 "nbformat": 3,
 "nbformat_minor": 0,
 "worksheets": [
  {
   "cells": [
    {
     "cell_type": "code",
     "collapsed": false,
     "input": [
      "import ibeis\n",
      "import vtool\n",
      "import utool\n",
      "import numpy as np\n",
      "import numpy.linalg as npl\n",
      "import pandas as pd\n",
      "np.set_printoptions(precision=2)\n",
      "pd.set_option('display.max_rows', 10)  \n",
      "pd.set_option('display.max_columns', 10)  \n",
      "pd.set_option('isplay.notebook_repr_html', True)"
     ],
     "language": "python",
     "metadata": {},
     "outputs": [],
     "prompt_number": 19
    },
    {
     "cell_type": "code",
     "collapsed": false,
     "input": [
      "ibeis.ensure_pz_mtest()\n",
      "ibs = ibeis.opendb('PZ_MTEST')"
     ],
     "language": "python",
     "metadata": {},
     "outputs": [
      {
       "output_type": "stream",
       "stream": "stdout",
       "text": [
        "have mtest_dir='F:/data/work/PZ_MTEST'\n",
        "[ibs._init_dirs] ibs.dbdir = 'F:\\\\data\\\\work\\\\PZ_MTEST'\n",
        "[ensure_correct_version] Database version: u'1.0.1' | Expected version: '1.0.1' "
       ]
      },
      {
       "output_type": "stream",
       "stream": "stdout",
       "text": [
        "\n",
        "[ibs] building default config\n"
       ]
      }
     ],
     "prompt_number": 20
    },
    {
     "cell_type": "code",
     "collapsed": false,
     "input": [
      "taids = ibs.get_valid_aids()\n",
      "tvecs_list = ibs.get_annot_desc(taids)\n",
      "tkpts_list = ibs.get_annot_kpts(taids)\n",
      "idx2_vec, idx2_ax, idx2_fx = vtool.nearest_neighbors.invertable_stack(tvecs_list, taids) \n",
      "print(idx2_vec)"
     ],
     "language": "python",
     "metadata": {},
     "outputs": [
      {
       "output_type": "stream",
       "stream": "stdout",
       "text": [
        "[[ 19   0   0 ..., 106   4   0]\n",
        " [ 58   0   0 ...,  26   4   1]\n",
        " [ 10  40  55 ...,   9  27  54]\n",
        " ..., \n",
        " [  1  12  43 ...,   1   1  19]\n",
        " [ 10  16  16 ...,   3  32  90]\n",
        " [  0   0   0 ...,   0   0   0]]\n"
       ]
      }
     ],
     "prompt_number": 21
    },
    {
     "cell_type": "code",
     "collapsed": false,
     "input": [
      "tvecdf_list = [pd.DataFrame(vecs) for vecs in  tvecs_list]\n",
      "print('-----------\\nA single images descriptors')\n",
      "print(tvecdf_list[0])\n",
      "tvecs_df = pd.DataFrame(tvecdf_list, index=taids)\n",
      "print('-----------\\nAll images descriptors')\n",
      "print(tvecs_df)\n",
      "print('-----------\\nConcat descriptors')\n",
      "\n",
      "print(pd.concat(tvecdf_list))"
     ],
     "language": "python",
     "metadata": {},
     "outputs": [
      {
       "output_type": "stream",
       "stream": "stdout",
       "text": [
        "-----------\n",
        "A single images descriptors\n",
        "      0    1    2    3    4   ...   123  124  125  126  127\n",
        "0      19    0    0    1    3 ...     0   12  106    4    0\n",
        "1      58    0    0    2    2 ...    11   38   26    4    1\n",
        "2      10   40   55   37   10 ...     0    0    9   27   54\n",
        "3      71    6    0    0    1 ...     1    3    0    0    0\n",
        "4       0    0    3    2   82 ...     4    3    0    0   26\n",
        "...   ...  ...  ...  ...  ... ...   ...  ...  ...  ...  ...\n",
        "1070    8   14    6   11   14 ...    29   46   15    7   15\n",
        "1071   23   17    3   19   48 ...     4    7    5   13   52\n",
        "1072   78    0    0    0    0 ...    11   56    7    5    8\n",
        "1073   40   24    2   12   42 ...    25   19    3    0    5\n",
        "1074   59    7    5    2    0 ...     1   21   70   33   15\n",
        "\n",
        "[1075 rows x 128 columns]\n",
        "-----------\n",
        "All images descriptors\n",
        "                                                     0\n",
        "1          0    1    2    3    4   ...   123  124  ...\n",
        "2          0    1    2    3    4   ...   123  124  ...\n",
        "3         0    1    2    3    4   ...   123  124  1...\n",
        "4          0    1    2    3    4   ...   123  124  ...\n",
        "5         0    1    2    3    4   ...   123  124  1...\n",
        "..                                                 ...\n",
        "115       0    1    2    3    4   ...   123  124  1...\n",
        "116       0    1    2    3    4   ...   123  124  1...\n",
        "117       0    1    2    3    4   ...   123  124  1...\n",
        "118        0    1    2    3    4   ...   123  124  ...\n",
        "119       0    1    2    3    4   ...   123  124  1...\n",
        "\n",
        "[119 rows x 1 columns]"
       ]
      },
      {
       "output_type": "stream",
       "stream": "stdout",
       "text": [
        "\n",
        "-----------\n",
        "Concat descriptors\n",
        "     0    1    2    3    4   ...   123  124  125  126  127\n",
        "0     19    0    0    1    3 ...     0   12  106    4    0\n",
        "1     58    0    0    2    2 ...    11   38   26    4    1\n",
        "2     10   40   55   37   10 ...     0    0    9   27   54\n",
        "3     71    6    0    0    1 ...     1    3    0    0    0\n",
        "4      0    0    3    2   82 ...     4    3    0    0   26\n",
        "..   ...  ...  ...  ...  ... ...   ...  ...  ...  ...  ...\n",
        "851    3  133   66    6    1 ...     0   21    1    0    0\n",
        "852    0    0   79   33    0 ...     0    0    0    0    8\n",
        "853    1   12   43    0    0 ...    25    5    1    1   19\n",
        "854   10   16   16   18    8 ...     0    0    3   32   90\n",
        "855    0    0    0    0    0 ...     0    0    0    0    0\n",
        "\n",
        "[120590 rows x 128 columns]\n"
       ]
      }
     ],
     "prompt_number": 22
    },
    {
     "cell_type": "code",
     "collapsed": false,
     "input": [
      "kpts_col = pd.DataFrame(tkpts_list, index=taids, columns=['kpts'])\n",
      "vecs_col = pd.DataFrame(tvecs_list, index=taids, columns=['vecs'])"
     ],
     "language": "python",
     "metadata": {},
     "outputs": [],
     "prompt_number": 30
    },
    {
     "cell_type": "code",
     "collapsed": false,
     "input": [
      "print(kpts_col)\n",
      "print(vecs_col)\n"
     ],
     "language": "python",
     "metadata": {},
     "outputs": [
      {
       "output_type": "stream",
       "stream": "stdout",
       "text": [
        "                                                  kpts\n",
        "1    [[92.9246, 17.5453, 7.81032, -3.45942, 10.8566...\n",
        "2    [[526.688, 13.4729, 13.7388, 1.28183, 6.144, 0...\n",
        "3    [[434.006, 12.5716, 23.1224, 0.257619, 4.28701...\n",
        "4    [[341.393, 17.6915, 18.6358, -1.31398, 6.18395...\n",
        "5    [[402.822, 17.9412, 9.80633, -2.46708, 10.0418...\n",
        "..                                                 ...\n",
        "115  [[101.967, 24.9948, 7.93021, -1.98132, 16.1667...\n",
        "116  [[27.0297, 18.6039, 9.71451, -2.1963, 8.6502, ...\n",
        "117  [[195.444, 10.9007, 16.819, 3.54514, 5.91355, ...\n",
        "118  [[194.729, 10.219, 15.5085, 1.13918, 6.70586, ...\n",
        "119  [[128.125, 24.3195, 9.52076, -5.28112, 8.92175...\n",
        "\n",
        "[119 rows x 1 columns]\n",
        "                                                  vecs\n",
        "1    [[19, 0, 0, 1, 3, 0, 0, 36, 2, 0, 0, 12, 117, ...\n",
        "2    [[0, 2, 13, 1, 3, 37, 64, 0, 3, 18, 29, 1, 4, ...\n",
        "3    [[0, 0, 0, 0, 7, 33, 30, 2, 12, 0, 0, 2, 7, 30...\n",
        "4    [[10, 2, 0, 0, 3, 14, 38, 94, 2, 6, 24, 18, 44...\n",
        "5    [[0, 0, 0, 8, 132, 43, 2, 0, 5, 12, 25, 6, 48,...\n",
        "..                                                 ...\n",
        "115  [[9, 0, 1, 4, 15, 116, 41, 23, 23, 10, 7, 1, 2...\n",
        "116  [[0, 0, 1, 17, 6, 1, 1, 0, 0, 0, 7, 145, 23, 6...\n",
        "117  [[62, 113, 3, 0, 0, 13, 24, 7, 17, 123, 102, 3...\n",
        "118  [[0, 2, 12, 67, 56, 0, 0, 0, 87, 18, 13, 89, 3...\n",
        "119  [[0, 0, 0, 0, 0, 44, 129, 16, 0, 0, 0, 0, 0, 3...\n",
        "\n",
        "[119 rows x 1 columns]"
       ]
      },
      {
       "output_type": "stream",
       "stream": "stdout",
       "text": [
        "\n"
       ]
      }
     ],
     "prompt_number": 31
    },
    {
     "cell_type": "code",
     "collapsed": false,
     "input": [
      "tvecs_dflist = [pd.DataFrame(vecs, index=np.arange(len(vecs))) for vecs in tvecs_list]\n",
      "vecs_col = pd.DataFrame(tvecs_list, index=taids, columns=['vecs'])\n",
      "print(vecs_col)\n"
     ],
     "language": "python",
     "metadata": {},
     "outputs": [
      {
       "output_type": "stream",
       "stream": "stdout",
       "text": [
        "                                                  vecs\n",
        "1    [[19, 0, 0, 1, 3, 0, 0, 36, 2, 0, 0, 12, 117, ...\n",
        "2    [[0, 2, 13, 1, 3, 37, 64, 0, 3, 18, 29, 1, 4, ...\n",
        "3    [[0, 0, 0, 0, 7, 33, 30, 2, 12, 0, 0, 2, 7, 30...\n",
        "4    [[10, 2, 0, 0, 3, 14, 38, 94, 2, 6, 24, 18, 44...\n",
        "5    [[0, 0, 0, 8, 132, 43, 2, 0, 5, 12, 25, 6, 48,...\n",
        "..                                                 ...\n",
        "115  [[9, 0, 1, 4, 15, 116, 41, 23, 23, 10, 7, 1, 2...\n",
        "116  [[0, 0, 1, 17, 6, 1, 1, 0, 0, 0, 7, 145, 23, 6...\n",
        "117  [[62, 113, 3, 0, 0, 13, 24, 7, 17, 123, 102, 3...\n",
        "118  [[0, 2, 12, 67, 56, 0, 0, 0, 87, 18, 13, 89, 3...\n",
        "119  [[0, 0, 0, 0, 0, 44, 129, 16, 0, 0, 0, 0, 0, 3...\n",
        "\n",
        "[119 rows x 1 columns]\n"
       ]
      }
     ],
     "prompt_number": 34
    }
   ],
   "metadata": {}
  }
 ]
}