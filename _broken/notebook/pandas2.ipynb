{
 "metadata": {
  "name": "",
  "signature": "sha256:b511aaa60f61004f12b6779efddaad8c17a8d7ba93f171c600f222f259cf45b4"
 },
 "nbformat": 3,
 "nbformat_minor": 0,
 "worksheets": [
  {
   "cells": [
    {
     "cell_type": "code",
     "collapsed": false,
     "input": [
      "%pylab inline\n",
      "import ibeis\n",
      "import vtool\n",
      "import utool\n",
      "import six\n",
      "import numpy as np\n",
      "import numpy.linalg as npl\n",
      "import pandas as pd\n",
      "np.set_printoptions(precision=2)\n",
      "pd.set_option('display.max_rows', 10)  \n",
      "pd.set_option('display.max_columns', 10)  \n",
      "pd.set_option('isplay.notebook_repr_html', True)\n",
      "ibeis.ensure_pz_mtest()\n",
      "ibs = ibeis.opendb('PZ_MTEST')"
     ],
     "language": "python",
     "metadata": {},
     "outputs": []
    },
    {
     "cell_type": "code",
     "collapsed": false,
     "input": [],
     "language": "python",
     "metadata": {},
     "outputs": []
    },
    {
     "cell_type": "code",
     "collapsed": false,
     "input": [
      "taids = ibs.get_valid_aids()[0:20:2]\n",
      "tvecs_list = ibs.get_annot_desc(taids)\n",
      "tkpts_list = ibs.get_annot_kpts(taids)\n",
      "orig_idx2_vec, orig_idx2_ax, orig_idx2_fx = vtool.nearest_neighbors.invert    from vtool import clustering2 as clustertool\n",
      "    clustertool.rrr()\n",
      "    vecs_list = annots_df['vecs'][train_aids].as_matrix()\n",
      "    train_vecs = np.vstack(vecs_list)\n",
      "    print('Training %d word vocabulary with %d annots and %d descriptors' %\n",
      "          (nCentroids, len(train_aids), len(train_vecs)))\n",
      "    words = clustertool.precompute_akmeans(train_vecs, nCentroids, max_iters=100)\n",
      "\n",
      "    able_stack(tvecs_list, taids) \n",
      "_kpts_col = pd.DataFrame(tkpts_list, index=taids, columns=['kpts'])\n",
      "_vecs_col = pd.DataFrame(tvecs_list, index=taids, columns=['vecs'])\n",
      "annots_df = pd.concat([_vecs_col, _kpts_col], axis=1)"
     ],
     "language": "python",
     "metadata": {},
     "outputs": []
    },
    {
     "cell_type": "code",
     "collapsed": false,
     "input": [
      "series = annots_df['vecs'][[1, 3, 5]] \n",
      "series.to_frame()"
     ],
     "language": "python",
     "metadata": {},
     "outputs": []
    },
    {
     "cell_type": "code",
     "collapsed": false,
     "input": [],
     "language": "python",
     "metadata": {},
     "outputs": []
    },
    {
     "cell_type": "code",
     "collapsed": false,
     "input": [
      "from vtool import clustering2 as clustertool\n",
      "clustertool.rrr()\n",
      "vecs_col = annots_df['vecs']\n",
      "idx2_vec = np.vstack(vecs_col.as_matrix())\n",
      "nCentroids = 10\n",
      "centroids = clustertool.akmeans(idx2_vec, nCentroids, max_iters=100)\n",
      "fig = clustertool.plot_centroids(idx2_vec, centroids, num_pca_dims=2)"
     ],
     "language": "python",
     "metadata": {},
     "outputs": []
    },
    {
     "cell_type": "code",
     "collapsed": false,
     "input": [],
     "language": "python",
     "metadata": {},
     "outputs": []
    },
    {
     "cell_type": "code",
     "collapsed": false,
     "input": [],
     "language": "python",
     "metadata": {},
     "outputs": []
    },
    {
     "cell_type": "code",
     "collapsed": false,
     "input": [],
     "language": "python",
     "metadata": {},
     "outputs": []
    },
    {
     "cell_type": "code",
     "collapsed": false,
     "input": [],
     "language": "python",
     "metadata": {},
     "outputs": []
    },
    {
     "cell_type": "code",
     "collapsed": false,
     "input": [],
     "language": "python",
     "metadata": {},
     "outputs": []
    },
    {
     "cell_type": "code",
     "collapsed": false,
     "input": [
      "print(repr(type(annots_df['vecs'])))\n",
      "#annots_df['vecs'].values"
     ],
     "language": "python",
     "metadata": {},
     "outputs": []
    },
    {
     "cell_type": "code",
     "collapsed": false,
     "input": [
      "np.vstack(annots_df['vecs'].values).shape"
     ],
     "language": "python",
     "metadata": {},
     "outputs": []
    },
    {
     "cell_type": "code",
     "collapsed": false,
     "input": [],
     "language": "python",
     "metadata": {},
     "outputs": []
    },
    {
     "cell_type": "code",
     "collapsed": false,
     "input": [],
     "language": "python",
     "metadata": {},
     "outputs": []
    },
    {
     "cell_type": "code",
     "collapsed": false,
     "input": [
      "#help(pd.DataFrame)"
     ],
     "language": "python",
     "metadata": {},
     "outputs": []
    },
    {
     "cell_type": "code",
     "collapsed": false,
     "input": [
      "#help(pd.concat)"
     ],
     "language": "python",
     "metadata": {},
     "outputs": []
    }
   ],
   "metadata": {}
  }
 ]
}