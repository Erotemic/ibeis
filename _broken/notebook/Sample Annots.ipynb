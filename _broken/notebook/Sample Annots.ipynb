{
 "metadata": {
  "name": "",
  "signature": "sha256:43201b1a238c3e237939bb2952e14f194d39c5b1aeaa26c6951eb83cb8b955d5"
 },
 "nbformat": 3,
 "nbformat_minor": 0,
 "worksheets": [
  {
   "cells": [
    {
     "cell_type": "code",
     "collapsed": false,
     "input": [
      "from ibeis.all_imports import *\n",
      "ibs = ibeis.opendb('PZ_Mothers')\n",
      "print(ibs.get_infostr())\n",
      "per_name = 1"
     ],
     "language": "python",
     "metadata": {},
     "outputs": [
      {
       "output_type": "stream",
       "stream": "stdout",
       "text": [
        "[main] _init_ibeis()\n",
        "[ibs._init_dirs] ibs.dbdir = '/media/Store/data/work/PZ_Mothers'\n",
        "[ibs] successfully loaded config\n",
        "\n",
        "    workdir = '/media/Store/data/work'\n",
        "    dbname = 'PZ_Mothers'\n",
        "    num_images = 118\n",
        "    num_annotations = 119\n",
        "    num_names = 42\n",
        "    \n"
       ]
      }
     ],
     "prompt_number": 20
    },
    {
     "cell_type": "code",
     "collapsed": false,
     "input": [
      "aid_list = ibs.get_valid_aids()"
     ],
     "language": "python",
     "metadata": {},
     "outputs": [],
     "prompt_number": 21
    },
    {
     "cell_type": "code",
     "collapsed": false,
     "input": [
      "def get_annot_groundfalse_sample(ibs, aid_list, per_name=1):\n",
      "    nid_list = ibs.get_annot_nids(aid_list)\n",
      "    nid2_aids = utool.group_items(aid_list, nid_list)\n",
      "\n",
      "    for nid in six.iterkeys(nid2_aids):\n",
      "        # Remove unknown\n",
      "        if ibs.is_nid_unknown(nid):\n",
      "            del nid2_aids[nid]\n",
      "        # Cast into numpy arrays\n",
      "        aids =  np.array(nid2_aids[nid])\n",
      "        nid2_aids[nid] = aids\n",
      "        # Shuffle known annotations in each name\n",
      "        #np.random.shuffle(aids)\n",
      "    def _sample(nid_):\n",
      "        aids_iter = (aids for nid, aids in six.iteritems(nid2_aids) if nid != nid_)\n",
      "        sample_gf_aids = np.hstack([np.random.choice(aids, per_name) for aids in aids_iter])\n",
      "        return sample_gf_aids.tolist()\n",
      "\n",
      "    gf_aids_list = [_sample(nid_) for nid_ in nid_list]\n",
      "    return gf_aids_list"
     ],
     "language": "python",
     "metadata": {},
     "outputs": [],
     "prompt_number": 22
    },
    {
     "cell_type": "code",
     "collapsed": false,
     "input": [
      "gf_aids_list = get_annot_groundfalse_sample(ibs, aid_list, per_name=1)\n",
      "strlist = [utool.truncate_str(str(aids), maxlen=80) for aids in gf_aids_list]\n",
      "print('\\n'.join(strlist[::10]))"
     ],
     "language": "python",
     "metadata": {},
     "outputs": [
      {
       "output_type": "stream",
       "stream": "stdout",
       "text": [
        "[5, 9, 10, 16, 18, 22, 27, 30, 35, 37, 41, 42, 44, ~~~TRUNCATED~~~ 11, 114, 116]\n",
        "[3, 7, 9, 16, 20, 24, 27, 30, 35, 37, 41, 42, 44,  ~~~TRUNCATED~~~ 11, 114, 116]\n",
        "[1, 8, 9, 12, 16, 22, 27, 33, 35, 38, 39, 42, 44,  ~~~TRUNCATED~~~ 12, 114, 118]\n",
        "[3, 6, 9, 11, 16, 20, 26, 27, 35, 36, 40, 42, 43,  ~~~TRUNCATED~~~ 09, 114, 118]\n",
        "[2, 6, 9, 15, 16, 21, 24, 28, 29, 35, 37, 42, 43,  ~~~TRUNCATED~~~ 11, 114, 116]\n",
        "[2, 6, 9, 12, 16, 21, 26, 28, 30, 35, 38, 40, 42,  ~~~TRUNCATED~~~ 10, 114, 115]\n",
        "[3, 5, 9, 15, 16, 21, 22, 28, 29, 35, 36, 41, 42,  ~~~TRUNCATED~~~ 09, 114, 118]\n",
        "[2, 5, 9, 10, 16, 21, 24, 27, 32, 35, 38, 41, 42,  ~~~TRUNCATED~~~ 13, 114, 118]\n",
        "[3, 7, 9, 15, 16, 20, 24, 28, 34, 35, 36, 40, 42,  ~~~TRUNCATED~~~ 11, 114, 117]\n",
        "[1, 8, 9, 12, 16, 17, 23, 28, 34, 35, 37, 41, 42,  ~~~TRUNCATED~~~ 09, 114, 118]\n",
        "[2, 5, 9, 13, 16, 17, 24, 28, 29, 35, 37, 40, 42,  ~~~TRUNCATED~~~ 09, 114, 115]\n",
        "[2, 5, 9, 14, 16, 19, 26, 27, 32, 35, 36, 39, 42,  ~~~TRUNCATED~~~ 08, 114, 115]\n"
       ]
      }
     ],
     "prompt_number": 23
    },
    {
     "cell_type": "code",
     "collapsed": false,
     "input": [
      "all_trues_list = ibs.get_annot_groundtruth(aid_list, noself=True, is_exemplar=True)"
     ],
     "language": "python",
     "metadata": {},
     "outputs": [],
     "prompt_number": 24
    },
    {
     "cell_type": "code",
     "collapsed": false,
     "input": [
      "    all_trues_list = ibs.get_annot_groundtruth(aid_list, noself=True, is_exemplar=True)\n",
      "    def random_choice(aids):\n",
      "        size = min(len(aids), per_name)\n",
      "        return np.random.choice(aids, size, replace=False).tolist()\n",
      "    sample_trues_list = [random_choice(aids) if len(aids) > 0 else [] for aids in all_trues_list]"
     ],
     "language": "python",
     "metadata": {},
     "outputs": [],
     "prompt_number": 30
    },
    {
     "cell_type": "code",
     "collapsed": false,
     "input": [
      "print(sample_trues_list)"
     ],
     "language": "python",
     "metadata": {},
     "outputs": [
      {
       "output_type": "stream",
       "stream": "stdout",
       "text": [
        "[[2], [4], [1], [2], [7], [8], [6], [7], [], [11], [12], [11], [15], [10], [12], [], [21], [20], [18], [18], [17], [26], [24], [25], [22], [24], [28], [27], [32], [32], [29], [31], [29], [32], [], [37], [36], [36], [40], [39], [40], [], [44], [43], [43], [48], [48], [49], [46], [51], [50], [], [54], [53], [56], [55], [], [59], [58], [58], [], [64], [65], [62], [63], [64], [], [69], [68], [72], [70], [70], [70], [73], [], [78], [80], [79], [78], [77], [82], [83], [82], [], [88], [87], [88], [85], [90], [89], [90], [94], [92], [95], [93], [92], [95], [], [100], [101], [103], [99], [99], [], [107], [105], [105], [], [112], [111], [113], [110], [112], [], [116], [115], [119], [119], [116]]\n"
       ]
      }
     ],
     "prompt_number": 31
    }
   ],
   "metadata": {}
  }
 ]
}