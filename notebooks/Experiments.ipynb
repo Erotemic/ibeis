{
 "cells": [
  {
   "cell_type": "code",
   "execution_count": null,
   "metadata": {
    "collapsed": true
   },
   "outputs": [],
   "source": [
    "# Define database for this test run\n",
    "db = 'PZ_MTEST'"
   ]
  },
  {
   "cell_type": "code",
   "execution_count": null,
   "metadata": {
    "collapsed": false
   },
   "outputs": [],
   "source": [
    "%pylab inline\n",
    "import ibeis\n",
    "ibeis.run_experiment(\n",
    "    e='rank_cdf', \n",
    "    db=db, \n",
    "    a=['unctrl', 'ctrl::unctrl:qpername=1,qview_ext=0'],\n",
    "    t=['baseline'])"
   ]
  },
  {
   "cell_type": "code",
   "execution_count": null,
   "metadata": {
    "collapsed": false
   },
   "outputs": [],
   "source": [
    "# Baseline Timedeltas FP\n",
    "%pylab inline\n",
    "import ibeis\n",
    "ibeis.run_experiment(\n",
    "    e='timedelta_hist',\n",
    "    db=db, \n",
    "    a=['ctrl::unctrl:qpername=1,qview_ext=0'], \n",
    "    t=['baseline'],\n",
    "    truepos=True)"
   ]
  },
  {
   "cell_type": "code",
   "execution_count": null,
   "metadata": {
    "collapsed": true
   },
   "outputs": [],
   "source": [
    "# Baseline Timedeltas FP\n",
    "ibeis.run_experiment(\n",
    "    e='timedelta_hist',\n",
    "    db=db, \n",
    "    a=['ctrl::unctrl:qpername=1,qview_ext=0'], \n",
    "    t=['baseline'],\n",
    "    falsepos=True)"
   ]
  },
  {
   "cell_type": "code",
   "execution_count": null,
   "metadata": {
    "collapsed": true
   },
   "outputs": [],
   "source": [
    "# Time Experiment \n",
    "ibeis.run_experiment(\n",
    "    e='rank_cdf',\n",
    "    db=db, \n",
    "    a=['largetimedelta', 'ctrl'], \n",
    "    t=['baseline'])"
   ]
  },
  {
   "cell_type": "code",
   "execution_count": null,
   "metadata": {
    "collapsed": true
   },
   "outputs": [],
   "source": [
    "# Timedelta PIE for new False Pos \n",
    "ibeis.run_experiment(\n",
    "    e='timedelta_hist',\n",
    "    db=db, \n",
    "    a=['largetimedelta'], \n",
    "    t=['baseline'],\n",
    "    falsepos=True)"
   ]
  },
  {
   "cell_type": "code",
   "execution_count": null,
   "metadata": {
    "collapsed": true
   },
   "outputs": [],
   "source": [
    "# K Experiment \n",
    "ibeis.run_experiment(\n",
    "    e='rank_surface',\n",
    "    db=db, \n",
    "    a=['varysize_pzm'], \n",
    "    t=['candidacy_k'])"
   ]
  },
  {
   "cell_type": "code",
   "execution_count": null,
   "metadata": {
    "collapsed": true
   },
   "outputs": [],
   "source": [
    "# Namescore Experiment\n",
    "ibeis.run_experiment(\n",
    "    e='rank_cdf',\n",
    "    db=db, \n",
    "    a=['varypername_pzm'], \n",
    "    t=['candidacy_namescore'])"
   ]
  },
  {
   "cell_type": "code",
   "execution_count": null,
   "metadata": {
    "collapsed": true
   },
   "outputs": [],
   "source": [
    "# Viewpoint Experiment\n",
    "ibeis.run_experiment(\n",
    "    e='rank_cdf',\n",
    "    db=db, \n",
    "    a=['viewpoint_compare'], \n",
    "    t=['baseline'])"
   ]
  },
  {
   "cell_type": "code",
   "execution_count": null,
   "metadata": {
    "collapsed": true
   },
   "outputs": [],
   "source": [
    "# Invariance Experiment\n",
    "ibeis.run_experiment(\n",
    "    e='rank_cdf',\n",
    "    db=db, \n",
    "    a=['ctrl'], \n",
    "    t=['candidacy_invariance'])"
   ]
  },
  {
   "cell_type": "code",
   "execution_count": null,
   "metadata": {
    "collapsed": true
   },
   "outputs": [],
   "source": [
    "# Invariance + Viewpoint Experiment\n",
    "# --test_cfgx_slice=6  # TODO\n",
    "ibeis.run_experiment(\n",
    "    e='rank_cdf',\n",
    "    db=db, \n",
    "    a=['viewpoint_compare'], \n",
    "    t=['candidacy_invariance'])"
   ]
  },
  {
   "cell_type": "code",
   "execution_count": null,
   "metadata": {
    "collapsed": true
   },
   "outputs": [],
   "source": [
    "# Invariance + Time Experiment\n",
    "ibeis.run_experiment(\n",
    "    e='rank_cdf',\n",
    "    db=db, \n",
    "    a=['timectrl'], \n",
    "    t=['baseline:AQH=False,AI=True',\n",
    "       'baseline:AQH=True,AI=False',\n",
    "       'baseline:AQH=False,AI=False'])"
   ]
  },
  {
   "cell_type": "code",
   "execution_count": null,
   "metadata": {
    "collapsed": true
   },
   "outputs": [],
   "source": [
    "# Invariance + Time Experiment\n",
    "ibeis.run_experiment(\n",
    "    e='rank_cdf',\n",
    "    db=db, \n",
    "    a=['timequalctrl'], \n",
    "    t=['baseline:AQH=False,AI=True',\n",
    "       'baseline:AQH=True,AI=False',\n",
    "       'baseline:AQH=False,AI=False'])"
   ]
  },
  {
   "cell_type": "code",
   "execution_count": null,
   "metadata": {
    "collapsed": true
   },
   "outputs": [],
   "source": []
  },
  {
   "cell_type": "code",
   "execution_count": null,
   "metadata": {
    "collapsed": true
   },
   "outputs": [],
   "source": [
    "# Setup seperability experiment\n",
    "if db == 'PZ_MTEST':\n",
    "    seperability_annot_cfgs = ['ctrl']\n",
    "else:\n",
    "    seperability_annot_cfgs = ['timequalctrl']"
   ]
  },
  {
   "cell_type": "code",
   "execution_count": null,
   "metadata": {
    "collapsed": true
   },
   "outputs": [],
   "source": [
    "# Score Seperability (No Filters)\n",
    "ibeis.run_experiment(\n",
    "    e='rank_cdf',\n",
    "    db=db, \n",
    "    a=seperability_annot_cfgs, \n",
    "    t=['baseline:AQH=True,AI=False']\n",
    "    f=[':fail=False,min_gf_timedelta=None']\n",
    ")"
   ]
  },
  {
   "cell_type": "code",
   "execution_count": null,
   "metadata": {
    "collapsed": true
   },
   "outputs": [],
   "source": [
    "# Score Seperability \n",
    "ibeis.run_experiment(\n",
    "    e='rank_cdf',\n",
    "    db=db, \n",
    "    a=seperability_annot_cfgs, \n",
    "    t=['baseline:AQH=True,AI=False'],\n",
    "    f=[':fail=False,min_gf_timedelta=24h']\n",
    ")"
   ]
  },
  {
   "cell_type": "code",
   "execution_count": null,
   "metadata": {
    "collapsed": true
   },
   "outputs": [],
   "source": [
    "# Score Seperability\n",
    "ibeis.run_experiment(\n",
    "    e='rank_cdf',\n",
    "    db=db, \n",
    "    a=seperability_annot_cfgs, \n",
    "    t=['baseline:AQH=True,AI=False'],\n",
    "    f=[':fail=None,min_gf_timedelta=24h']\n",
    ")"
   ]
  },
  {
   "cell_type": "code",
   "execution_count": null,
   "metadata": {
    "collapsed": true
   },
   "outputs": [],
   "source": [
    "# Score Seperability \n",
    "ibeis.run_experiment(\n",
    "    e='rank_cdf',\n",
    "    db=db, \n",
    "    a=seperability_annot_cfgs, \n",
    "    t=['baseline:AQH=True,AI=False'],\n",
    "    f=[':fail=None,min_gf_timedelta=None']\n",
    ")"
   ]
  }
 ],
 "metadata": {
  "kernelspec": {
   "display_name": "Python 2",
   "language": "python",
   "name": "python2"
  },
  "language_info": {
   "codemirror_mode": {
    "name": "ipython",
    "version": 2
   },
   "file_extension": ".py",
   "mimetype": "text/x-python",
   "name": "python",
   "nbconvert_exporter": "python",
   "pygments_lexer": "ipython2",
   "version": "2.7.8"
  }
 },
 "nbformat": 4,
 "nbformat_minor": 0
}
