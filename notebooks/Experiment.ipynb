{
 "cells": [
  {
   "cell_type": "code",
   "execution_count": 2,
   "metadata": {
    "code_folding": [],
    "collapsed": false,
    "scrolled": true
   },
   "outputs": [
    {
     "name": "stderr",
     "output_type": "stream",
     "text": [
      "WARNING: pylab import has clobbered these variables: ['split']\n",
      "`%matplotlib` prevents importing * from pylab and numpy\n",
      "/usr/local/lib/python2.7/dist-packages/matplotlib/__init__.py:1318: UserWarning:  This call to matplotlib.use() has no effect\n",
      "because the backend has already been chosen;\n",
      "matplotlib.use() must be called *before* pylab, matplotlib.pyplot,\n",
      "or matplotlib.backends is imported for the first time.\n",
      "\n",
      "  warnings.warn(_use_error_msg)\n"
     ]
    },
    {
     "name": "stdout",
     "output_type": "stream",
     "text": [
      "Populating the interactive namespace from numpy and matplotlib\n"
     ]
    }
   ],
   "source": [
    "# Set global utool flags\n",
    "import utool as ut\n",
    "ut.util_io.__PRINT_WRITES__ = False\n",
    "ut.util_io.__PRINT_READS__ = False\n",
    "ut.util_parallel.__FORCE_SERIAL__ = True\n",
    "ut.util_cache.VERBOSE_CACHE = False\n",
    "ut.NOT_QUIET = False\n",
    "\n",
    "# Matplotlib stuff\n",
    "%pylab inline\n",
    "#%load_ext autoreload\n",
    "#%autoreload\n",
    "\n",
    "import ibeis\n",
    "#ibeis.experiments.experiment_harness.USE_BIG_TEST_CACHE = False\n",
    "#ibeis.init.filter_annots.USE_ACFG_CACHE = False\n",
    "\n",
    "# Define database for this test run\n",
    "db = 'PZ_Master1'\n",
    "#db = 'GZ_ALL'\n",
    "#db = 'NNP_MasterGIRM_core'\n",
    " \n",
    "# Setup database specific configs\n",
    "if db == 'PZ_MTEST' or db == 'GZ_ALL':\n",
    "    seperability_annot_cfgs = ['ctrl']\n",
    "else:\n",
    "    seperability_annot_cfgs = ['timequalctrl']\n",
    "\n",
    "varysize = ['varysize']\n",
    "varypername = ['varypername']\n",
    "\n",
    "ALL_TESTS = False\n",
    "SHOW_DBINFO = False"
   ]
  },
  {
   "cell_type": "markdown",
   "metadata": {
    "code_folding": [
     0
    ]
   },
   "source": [
    "# Database Information"
   ]
  },
  {
   "cell_type": "code",
   "execution_count": null,
   "metadata": {
    "code_folding": [
     0
    ],
    "collapsed": false
   },
   "outputs": [],
   "source": [
    "if SHOW_DBINFO:\n",
    "    _ = ibeis.other.dbinfo.get_dbinfo(ibs)\n",
    "    print('Command Line:\\n    python -m ibeis.other.dbinfo --exec-get_dbinfo:0 --db {db}'.format(db=db))\n",
    "\n",
    "if SHOW_DBINFO:\n",
    "    import ibeis\n",
    "    ibs = ibeis.opendb(db=db)\n",
    "    ibeis.other.dbinfo.show_image_time_distributions(ibs, ibs.get_valid_gids())"
   ]
  },
  {
   "cell_type": "code",
   "execution_count": null,
   "metadata": {
    "collapsed": false,
    "scrolled": true
   },
   "outputs": [],
   "source": [
    "if SHOW_DBINFO:\n",
    "    latex_stats = ibeis.other.dbinfo.latex_dbstats([ibs], table_position='[h]') + '\\n%--'\n",
    "    #print(latex_stats)}\n",
    "    pdf_fpath = ut.compile_latex_text(latex_stats, dpath=None, verbose=False, quiet=True, pad_stdout=False)\n",
    "    pdf_fpath = ut.tail(pdf_fpath, n=2)\n",
    "    print(pdf_fpath)\n",
    "    from IPython.display import HTML\n",
    "    HTML('<iframe src=\"%s\" width=700 height=350></iframe>' % pdf_fpath)"
   ]
  },
  {
   "cell_type": "markdown",
   "metadata": {},
   "source": [
    "# Baseline Experiments"
   ]
  },
  {
   "cell_type": "code",
   "execution_count": null,
   "metadata": {
    "code_folding": [
     0
    ],
    "collapsed": false,
    "scrolled": false
   },
   "outputs": [],
   "source": [
    "test_result = ibeis.run_experiment(\n",
    "    e='rank_cdf', \n",
    "    db=db, \n",
    "    a=['unctrl', 'ctrl::unctrl_comp'],\n",
    "    t=['baseline'])\n",
    "#test_result.print_acfg_info()\n",
    "_ = test_result.draw_func()"
   ]
  },
  {
   "cell_type": "code",
   "execution_count": null,
   "metadata": {
    "code_folding": [
     0
    ],
    "collapsed": false
   },
   "outputs": [],
   "source": [
    "test_result = ibeis.run_experiment(\n",
    "    e='timedelta_pie',\n",
    "    db=db, \n",
    "    a=['ctrl::unctrl_comp'], \n",
    "    t=['baseline'],\n",
    "    truepos=True)\n",
    "test_result.draw_func()\n",
    "\n",
    "test_result = ibeis.run_experiment(\n",
    "    e='timedelta_pie',\n",
    "    db=db, \n",
    "    a=['ctrl::unctrl_comp'], \n",
    "    t=['baseline'],\n",
    "    falsepos=True)\n",
    "test_result.draw_func()"
   ]
  },
  {
   "cell_type": "markdown",
   "metadata": {},
   "source": [
    "## Time Experiment"
   ]
  },
  {
   "cell_type": "code",
   "execution_count": null,
   "metadata": {
    "code_folding": [
     0
    ],
    "collapsed": false,
    "scrolled": false
   },
   "outputs": [],
   "source": [
    "test_result = ibeis.run_experiment(\n",
    "    e='rank_cdf',\n",
    "    db=db, \n",
    "    a=['timectrl', 'ctrl'], \n",
    "    t=['baseline'])\n",
    "#test_result.print_acfg_info()\n",
    "test_result.draw_func()\n",
    "\n",
    "test_result = ibeis.run_experiment(\n",
    "    e='timedelta_pie',\n",
    "    db=db, \n",
    "    a=['timectrl'], \n",
    "    t=['baseline'],\n",
    "    falsepos=True, truepos=True)\n",
    "test_result.draw_func()"
   ]
  },
  {
   "cell_type": "markdown",
   "metadata": {},
   "source": [
    "# Database Size Experiments"
   ]
  },
  {
   "cell_type": "code",
   "execution_count": null,
   "metadata": {
    "code_folding": [],
    "collapsed": false,
    "scrolled": false
   },
   "outputs": [],
   "source": [
    "if ALL_TESTS:\n",
    "    test_result = ibeis.run_experiment(\n",
    "        e='rank_surface',\n",
    "        db=db, \n",
    "        a=['varysize'], \n",
    "        t=['candk'])\n",
    "    #test_result.print_unique_annot_config_stats()\n",
    "    #test_result.print_acfg_info()\n",
    "    test_result.draw_func()\n",
    "if True:\n",
    "    test_result = ibeis.run_experiment(\n",
    "        e='rank_surface',\n",
    "        db=db, \n",
    "        a=['varysize_td'], \n",
    "        t=['candk'])\n",
    "    #test_result.print_unique_annot_config_stats()\n",
    "    #test_result.print_acfg_info()\n",
    "    test_result.draw_func()\n",
    "    \n",
    "if True:\n",
    "    # This test requires a little bit of relaxation to get enough data\n",
    "    test_result = ibeis.run_experiment(\n",
    "        e='rank_surface',\n",
    "        db=db, \n",
    "        a=['varysize_tdqual:qmin_pername=3,dpername=[1,2]'], \n",
    "        t=['candk'])\n",
    "    #test_result.print_unique_annot_config_stats()\n",
    "    #test_result.print_acfg_info()\n",
    "    test_result.draw_func()"
   ]
  },
  {
   "cell_type": "markdown",
   "metadata": {
    "code_folding": []
   },
   "source": [
    "# Effect of K (explicit test for larger databases)"
   ]
  },
  {
   "cell_type": "markdown",
   "metadata": {},
   "source": [
    "### Test of K"
   ]
  },
  {
   "cell_type": "code",
   "execution_count": null,
   "metadata": {
    "code_folding": [
     1
    ],
    "collapsed": false
   },
   "outputs": [],
   "source": [
    "TEST_K = False\n",
    "if TEST_K:\n",
    "    if ALL_TESTS:\n",
    "        test_result = ibeis.run_experiment(\n",
    "            e='rank_cdf',\n",
    "            db=db, \n",
    "            a=['ctrl'], \n",
    "            t=['candk'], lazy=True)\n",
    "        test_result = test_result()\n",
    "        test_result.draw_func()\n",
    "\n",
    "    test_result = ibeis.run_experiment(\n",
    "        e='rank_cdf',\n",
    "        db=db, \n",
    "        a=['timectrl'], \n",
    "        t=['candk'])\n",
    "    test_result.draw_func()\n",
    "\n",
    "    test_result = ibeis.run_experiment(\n",
    "        e='rank_cdf',\n",
    "        db=db, \n",
    "        a=['timequalctrl'], \n",
    "        t=['candk'])\n",
    "    #test_result.print_acfg_info(per_qual=True)\n",
    "    test_result.draw_func()"
   ]
  },
  {
   "cell_type": "markdown",
   "metadata": {},
   "source": [
    "### Test of Knorm"
   ]
  },
  {
   "cell_type": "code",
   "execution_count": null,
   "metadata": {
    "code_folding": [],
    "collapsed": false
   },
   "outputs": [],
   "source": [
    "TEST_KNORM = False\n",
    "\n",
    "if TEST_KNORM:\n",
    "    test_result = ibeis.run_experiment(\n",
    "        e='rank_cdf',\n",
    "        db=db, \n",
    "        a=['ctrl'], \n",
    "        t=['candknorm'])\n",
    "    #test_result.print_acfg_info(per_qual=True)\n",
    "    test_result.draw_func()\n",
    "\n",
    "    test_result = ibeis.run_experiment(\n",
    "        e='rank_cdf',\n",
    "        db=db, \n",
    "        a=['timectrl'], \n",
    "        t=['candknorm'])\n",
    "    #test_result.print_acfg_info(per_qual=True)\n",
    "    test_result.draw_func()\n",
    "\n",
    "    # Test Knorm \n",
    "    test_result = ibeis.run_experiment(\n",
    "        e='rank_cdf',\n",
    "        db=db, \n",
    "        a=['timequalctrl'], \n",
    "        t=['candknorm'])\n",
    "    #test_result.print_acfg_info(per_qual=True)\n",
    "    test_result.draw_func()"
   ]
  },
  {
   "cell_type": "markdown",
   "metadata": {},
   "source": [
    "### Joint Test that controls for database size to compare between the timequalctrl and timectrl "
   ]
  },
  {
   "cell_type": "code",
   "execution_count": null,
   "metadata": {
    "collapsed": false,
    "scrolled": false
   },
   "outputs": [],
   "source": [
    "if TEST_KNORM:\n",
    "    # 10 being good in timectrl seems to result from database size?\n",
    "    test_result = ibeis.run_experiment(\n",
    "        e='rank_cdf',\n",
    "        db=db, \n",
    "        a=['timequalctrl::timectrl'], \n",
    "        #t=['candknorm:K=[2,3,4,10]']\n",
    "        t=['candknorm:K=[2,3,4]']\n",
    "        )\n",
    "    #test_result.print_acfg_info(per_qual=True)\n",
    "    test_result.draw_func()"
   ]
  },
  {
   "cell_type": "markdown",
   "metadata": {},
   "source": [
    "# Scoring Mechanism Experiments"
   ]
  },
  {
   "cell_type": "code",
   "execution_count": null,
   "metadata": {
    "collapsed": false,
    "scrolled": false
   },
   "outputs": [],
   "source": [
    "# OLD Namescore Experiment\n",
    "if 0:\n",
    "    test_result = ibeis.run_experiment(\n",
    "        e='rank_cdf',\n",
    "        db=db, \n",
    "        #a=varypername, \n",
    "        a=['varypername'],\n",
    "        t=['candscoremech'])\n",
    "    test_result.draw_func()\n",
    "\n",
    "test_result = ibeis.run_experiment(\n",
    "    e='rank_cdf',\n",
    "    db=db, \n",
    "    a=['varypername_td'],\n",
    "    t=['candscoremech'])\n",
    "test_result.draw_func()\n",
    "\n",
    "if 0:\n",
    "    # Not enough data to run this (can hack off exclude_reference to get something)\n",
    "    test_result = ibeis.run_experiment(\n",
    "        e='rank_cdf',\n",
    "        db=db, \n",
    "        a=['varypername_tdqual:exclude_reference=False,qmin_pername=3'],\n",
    "        t=['candscoremech'])\n",
    "    test_result.draw_func()"
   ]
  },
  {
   "cell_type": "code",
   "execution_count": null,
   "metadata": {
    "collapsed": false
   },
   "outputs": [],
   "source": [
    "# Test significance of adding a single picture\n",
    "test_result = ibeis.run_experiment(\n",
    "    e='rank_cdf',\n",
    "    db=db, \n",
    "    #a=['timectrl:qmin_pername=3,dpername=2'],\n",
    "    a=['varypername2_td'],\n",
    "    #t=['candscoremech']\n",
    "    t=['invarbest'],\n",
    ")\n",
    "test_result.draw_func()"
   ]
  },
  {
   "cell_type": "markdown",
   "metadata": {},
   "source": [
    "# Viewpoint Experiments"
   ]
  },
  {
   "cell_type": "code",
   "execution_count": null,
   "metadata": {
    "collapsed": false,
    "scrolled": false
   },
   "outputs": [],
   "source": [
    "try:\n",
    "    ibeis.rrr()\n",
    "    test_result = ibeis.run_experiment(\n",
    "        e='rank_cdf',\n",
    "        db=db, \n",
    "        a=['viewdiff'], \n",
    "        t=['baseline'])\n",
    "    \n",
    "    test_result.draw_func()\n",
    "    \n",
    "    \n",
    "except AssertionError as ex:\n",
    "    ut.printex(ex, 'Database does not support this test')"
   ]
  },
  {
   "cell_type": "code",
   "execution_count": null,
   "metadata": {
    "collapsed": false
   },
   "outputs": [],
   "source": [
    "test_result.draw_cases(f=[':index=3:4'], annot_modes=[1])"
   ]
  },
  {
   "cell_type": "code",
   "execution_count": null,
   "metadata": {
    "collapsed": false
   },
   "outputs": [],
   "source": [
    "try:\n",
    "    test_result = ibeis.run_experiment(\n",
    "        e='rank_cdf',\n",
    "        db=db, \n",
    "        a=['viewdiff'], \n",
    "        t=['invarbest:K=1'])\n",
    "    test_result.draw_func()\n",
    "except AssertionError as ex:\n",
    "    ut.printex(ex, 'Database does not support this test')"
   ]
  },
  {
   "cell_type": "code",
   "execution_count": 3,
   "metadata": {
    "collapsed": false
   },
   "outputs": [
    {
     "name": "stdout",
     "output_type": "stream",
     "text": [
      "RELOAD: [ibeis] __name__=ibeis\n",
      "Equivalent Command Line:\n",
      "ibeis -e rank_cdf --db PZ_Master1 -a viewdiff:min_timedelta=30m,require_timestamp=True,dhack_extra=True -t invarbest:K=1 --show\n",
      "\n",
      "[ibs.__init__] new IBEISController\n",
      "[ibs._init_dirs] ibs.dbdir = '/media/raid/work/PZ_Master1'\n",
      "[ibs.__init__] END new IBEISController\n",
      "\n",
      "Warning: Cannot meet sample_size=530. available_daids will be undersized by at least 445\n",
      "\u001b[32;01mtestnameid=\"PZ_Master1 ['invarbest:K=1']['viewdiff:min_timedelta=30m,require_timestamp=True,dhack_extra=True']\"\u001b[39;49;00m\u001b[39;49;00m\u001b[39;49;00m\n",
      "\u001b[33;01mannot_cfgstr = _QSUUIDS((7)8b4kdc5ai77+kuvn)_DSUUIDS((530)g2xhk5wbj5pxczuj)\u001b[39;49;00m\u001b[39;49;00m\u001b[39;49;00m\n",
      "\u001b[36;01mpipe_cfgstr= _vsmany_NN(single,K1+1,padk=False,last,cks800)_NNWeight(lnbnn)_SV(0.01;2.0;1.57minIn=4,nNRR=50,nARR=6,nsum,cdl,+wi,+fc,)_AGG(nsum)_FLANN(8_kdtrees)_RRVsOne(False)_FEATWEIGHT(OFF)_FEAT(hesaff+sift_affine_invariance=False)_CHIP(sz450)_HACK(augment_queryside)\u001b[39;49;00m\u001b[39;49;00m\u001b[39;49;00m\n",
      "\u001b[36mpipe_hashstr = mgkzkgpydxuzqnti\u001b[39;49;00m\u001b[39;49;00m\u001b[39;49;00m\n",
      "[PZ_Master1 cfg 0/2][add_chip_feat] adding 28 / 530 new feat for config_rowid=19\n",
      "[PZ_Master1 cfg 0/2][add_chip_feat] adding to sql in chunks with chunksize=128\n",
      "[util_parallel.generate] generate_serial\n",
      "[util_parallel._generate_serial] executing 28 gen_feat_worker tasks in serial\n",
      "gen_feat_worker:    10/28...  rate=3.17 Hz, etr: 0:00:05, ellapsed: 0:00:03, wall: 16:47 EST\n",
      "gen_feat_worker:    20/28...  rate=4.21 Hz, etr: 0:00:01, ellapsed: 0:00:05, wall: 16:47 EST\n",
      "[PZ_Master1 cfg 0/2][add_chip_feat] adding feature chunk to sql\n",
      "[mc4] query chunk:     0/1...  \n",
      "[PZ_Master1 cfg 0/2][qreq] lazy loading\n",
      "[PZ_Master1 cfg 0/2][aug] Requesting augmented nnindexer\n",
      "[PZ_Master1 cfg 0/2][aug] Nothing to augment, fallback to memcache\n",
      "[PZ_Master1 cfg 0/2][nnindex] Loading support data to build diskcached indexer\n",
      "[PZ_Master1 cfg 0/2][nnindex] Preparing data for indexing\n",
      "[PZ_Master1 cfg 0/2]flann fpath = '/media/raid/work/PZ_Master1/_ibsdb/_ibeis_cache/flann/flann_FLANN((algo=kdtree,seed=42,t=8))_VECS((849221,128)gn%1+q3xr+yfjx4@).flann'\n",
      "[PZ_Master1 cfg 0/2]...nnindex flann cache miss: 849221 vectors, 530 annots\n",
      "[PZ_Master1 cfg 0/2][nnindex] ...building kdtree over 849221 points (this may take a sec).\n",
      "...toc(11.0907s, \"Building index\")\n",
      "[PZ_Master1 cfg 0/2]flann fpath = '/media/raid/work/PZ_Master1/_ibsdb/_ibeis_cache/flann/flann_FLANN((algo=kdtree,seed=42,t=8))_VECS((849221,128)gn%1+q3xr+yfjx4@).flann'\n",
      "Assign NN:           1/7...  rate=2.03 Hz, etr: 0:00:02, ellapsed: 0:00:00, wall: 16:47 EST\n",
      "Assign NN:           7/7...  rate=2.03 Hz, etr: 0:00:00, ellapsed: 0:00:03, wall: 16:47 EST\n",
      "\n",
      "[PZ_Master1 cfg 0/2][cache] 0/7 cache hits for neighbs4 in _ibeis_cache/neighborcache2\n",
      "Filter NN:           1/7...  rate=39944.16 Hz, etr: 0:00:00, ellapsed: 0:00:00, wall: 16:47 EST\n",
      "Filter NN:           7/7...  rate=39944.16 Hz, etr: 0:00:00, ellapsed: 0:00:00, wall: 16:47 EST\n",
      "\n",
      "[PZ_Master1 cfg 0/2]Weight NN:       \n",
      "Build Chipmatch:     1/7...  rate=431.02 Hz, etr: 0:00:00, ellapsed: 0:00:00, wall: 16:47 EST\n",
      "[PZ_Master1 cfg 0/2][scoring] Making shortlist nNameShortList=50, nAnnotPerName=6\n",
      "SVER:                1/7...  rate=19.80 Hz, etr: 0:00:00, ellapsed: 0:00:00, wall: 16:47 EST\n",
      "SVER:                7/7...  rate=19.80 Hz, etr: 0:00:00, ellapsed: 0:00:00, wall: 16:47 EST\n",
      "\n",
      "[mc4] query chunk:     1/1...  rate=0.04 Hz, etr: 0:00:00, ellapsed: 0:00:23, wall: 16:47 EST\n",
      "\u001b[32;01mtestnameid=\"PZ_Master1 ['invarbest:K=1']['viewdiff:min_timedelta=30m,require_timestamp=True,dhack_extra=True']\"\u001b[39;49;00m\u001b[39;49;00m\u001b[39;49;00m\n",
      "\u001b[33;01mannot_cfgstr = _QSUUIDS((7)8b4kdc5ai77+kuvn)_DSUUIDS((585)2jhntcml6l3rjd9i)\u001b[39;49;00m\u001b[39;49;00m\u001b[39;49;00m\n",
      "\u001b[36;01mpipe_cfgstr= _vsmany_NN(single,K1+1,padk=False,last,cks800)_NNWeight(lnbnn)_SV(0.01;2.0;1.57minIn=4,nNRR=50,nARR=6,nsum,cdl,+wi,+fc,)_AGG(nsum)_FLANN(8_kdtrees)_RRVsOne(False)_FEATWEIGHT(OFF)_FEAT(hesaff+sift_affine_invariance=False)_CHIP(sz450)_HACK(augment_queryside)\u001b[39;49;00m\u001b[39;49;00m\u001b[39;49;00m\n",
      "\u001b[36mpipe_hashstr = mgkzkgpydxuzqnti\u001b[39;49;00m\u001b[39;49;00m\u001b[39;49;00m\n",
      "[PZ_Master1 cfg 1/2][add_chip_feat] adding 3 / 585 new feat for config_rowid=19\n",
      "[PZ_Master1 cfg 1/2][add_chip_feat] adding to sql in chunks with chunksize=128\n",
      "[util_parallel.generate] generate_serial\n",
      "[util_parallel._generate_serial] executing 3 gen_feat_worker tasks in serial\n",
      "gen_feat_worker:     0/3...  [PZ_Master1 cfg 1/2][add_chip_feat] adding feature chunk to sql\n",
      "[mc4] query chunk:     0/1...  \n",
      "[PZ_Master1 cfg 1/2][qreq] lazy loading\n",
      "[PZ_Master1 cfg 1/2][aug] Requesting augmented nnindexer\n",
      "[PZ_Master1 cfg 1/2][aug] Nothing to augment, fallback to memcache\n",
      "[PZ_Master1 cfg 1/2][nnindex] Loading support data to build diskcached indexer\n",
      "[PZ_Master1 cfg 1/2][nnindex] Preparing data for indexing\n",
      "[PZ_Master1 cfg 1/2]flann fpath = '/media/raid/work/PZ_Master1/_ibsdb/_ibeis_cache/flann/flann_FLANN((algo=kdtree,seed=42,t=8))_VECS((956132,128)3x!a60bxkkwaqv%d).flann'\n",
      "[PZ_Master1 cfg 1/2]...nnindex flann cache miss: 956132 vectors, 585 annots\n",
      "[PZ_Master1 cfg 1/2][nnindex] ...building kdtree over 956132 points (this may take a sec).\n",
      "...toc(12.5691s, \"Building index\")\n",
      "[PZ_Master1 cfg 1/2]flann fpath = '/media/raid/work/PZ_Master1/_ibsdb/_ibeis_cache/flann/flann_FLANN((algo=kdtree,seed=42,t=8))_VECS((956132,128)3x!a60bxkkwaqv%d).flann'\n",
      "Assign NN:           1/7...  rate=2.02 Hz, etr: 0:00:02, ellapsed: 0:00:00, wall: 16:47 EST\n",
      "Assign NN:           7/7...  rate=2.02 Hz, etr: 0:00:00, ellapsed: 0:00:03, wall: 16:48 EST\n",
      "\n",
      "[PZ_Master1 cfg 1/2][cache] 0/7 cache hits for neighbs4 in _ibeis_cache/neighborcache2\n",
      "Filter NN:           1/7...  rate=41526.04 Hz, etr: 0:00:00, ellapsed: 0:00:00, wall: 16:48 EST\n",
      "Filter NN:           7/7...  rate=41526.04 Hz, etr: 0:00:00, ellapsed: 0:00:00, wall: 16:48 EST\n",
      "\n",
      "[PZ_Master1 cfg 1/2]Weight NN:       \n",
      "Build Chipmatch:     1/7...  rate=394.02 Hz, etr: 0:00:00, ellapsed: 0:00:00, wall: 16:48 EST\n",
      "[PZ_Master1 cfg 1/2][scoring] Making shortlist nNameShortList=50, nAnnotPerName=6\n",
      "SVER:                1/7...  rate=11.90 Hz, etr: 0:00:00, ellapsed: 0:00:00, wall: 16:48 EST\n",
      "SVER:                7/7...  rate=11.90 Hz, etr: 0:00:00, ellapsed: 0:00:00, wall: 16:48 EST\n",
      "\n",
      "[mc4] query chunk:     1/1...  rate=0.04 Hz, etr: 0:00:00, ellapsed: 0:00:26, wall: 16:48 EST\n"
     ]
    }
   ],
   "source": [
    "try:\n",
    "    ibeis.rrr()\n",
    "    # Hardly get anything when timedelta is small\n",
    "    # Not enough data for this. \n",
    "    test_result = ibeis.run_experiment(\n",
    "        e='rank_cdf',\n",
    "        db=db, \n",
    "        a=['viewdiff:min_timedelta=30m,require_timestamp=True,dhack_extra=True'], \n",
    "        t=['invarbest:K=1'])\n",
    "    #test_result.draw_func()\n",
    "\n",
    "except AssertionError as ex:\n",
    "    ut.printex(ex, 'Database does not support this test')"
   ]
  },
  {
   "cell_type": "code",
   "execution_count": null,
   "metadata": {
    "collapsed": false,
    "scrolled": true
   },
   "outputs": [],
   "source": [
    "_ = test_result.draw_cases(\n",
    "    annot_modes=[0, 1],\n",
    "    f=[':index=0:8,orderby=gtscore'],  # Orderby means less when multi configs used\n",
    "    )()"
   ]
  },
  {
   "cell_type": "markdown",
   "metadata": {},
   "source": [
    "There is not enough data in the plains zebra dataset to make this test workable. The results are very poor. "
   ]
  },
  {
   "cell_type": "code",
   "execution_count": null,
   "metadata": {
    "collapsed": false
   },
   "outputs": [],
   "source": [
    "if False:\n",
    "    try:\n",
    "        # Look at interaction between viewpoint and K\n",
    "        # There really isn't anything significant\n",
    "        test_result = ibeis.run_experiment(\n",
    "            e='rank_cdf',\n",
    "            db=db, \n",
    "            a=['viewdiff'], \n",
    "            t=['baseline:K=[1,2,4,7]'])\n",
    "        test_result.draw_func()\n",
    "    except AssertionError as ex:\n",
    "        ut.printex(ex, 'Database does not support this test')"
   ]
  },
  {
   "cell_type": "markdown",
   "metadata": {},
   "source": [
    "# Invariance Experiments"
   ]
  },
  {
   "cell_type": "code",
   "execution_count": null,
   "metadata": {
    "collapsed": false,
    "scrolled": false
   },
   "outputs": [],
   "source": [
    "test_result = ibeis.run_experiment(\n",
    "    e='rank_cdf',\n",
    "    db=db, \n",
    "    a=['ctrl'], \n",
    "    t=['invar'])\n",
    "test_result.draw_func()\n",
    "\n",
    "# Invariance + Viewpoint Experiment\n",
    "try:\n",
    "    test_result = ibeis.run_experiment(\n",
    "        e='rank_cdf',\n",
    "        db=db, \n",
    "        a=['viewdiff'], \n",
    "        t=['invar'], \n",
    "        test_cfgx_slice=slice(6, None))\n",
    "    test_result.draw_func()\n",
    "except AssertionError as ex:\n",
    "    ut.printex(ex, 'Database does not support this test')\n",
    "    \n",
    "    \n",
    "# Invariance + Time Experiment\n",
    "test_result = ibeis.run_experiment(\n",
    "    e='rank_cdf',\n",
    "    db=db, \n",
    "    a=['timectrl'], \n",
    "    t=['invar4'])\n",
    "_ = test_result.draw_func()\n",
    "\n",
    "# Invariance + Quality + Time Experiment\n",
    "test_result = ibeis.run_experiment(\n",
    "    e='rank_cdf',\n",
    "    db=db, \n",
    "    a=['timequalctrl'], \n",
    "    t=['invar4'])\n",
    "_ = test_result.draw_func()"
   ]
  },
  {
   "cell_type": "markdown",
   "metadata": {},
   "source": [
    "Notice how AQH=On, AI=On does much better as the ranks increase for the viewpoint test. This suggests that affine invariance is important for matching disparage viewpoints, however it seems that being paied with a little bit of orientation invariance is very helpful."
   ]
  },
  {
   "cell_type": "markdown",
   "metadata": {
    "collapsed": true
   },
   "source": [
    "# Score Separability Experiments"
   ]
  },
  {
   "cell_type": "markdown",
   "metadata": {},
   "source": [
    "## Scores of Success Cases"
   ]
  },
  {
   "cell_type": "code",
   "execution_count": null,
   "metadata": {
    "collapsed": false,
    "scrolled": false
   },
   "outputs": [],
   "source": [
    "test_result = ibeis.run_experiment(\n",
    "    e='scores',\n",
    "    db=db, \n",
    "    a=seperability_annot_cfgs, \n",
    "    t=['invarbest'],\n",
    "    f=[':fail=False,min_gf_timedelta=None'],\n",
    ")\n",
    "_ = test_result.draw_func()"
   ]
  },
  {
   "cell_type": "markdown",
   "metadata": {},
   "source": [
    "## Scores of All Cases"
   ]
  },
  {
   "cell_type": "code",
   "execution_count": null,
   "metadata": {
    "collapsed": false
   },
   "outputs": [],
   "source": [
    "# Score Seperability with NO FILTERING\n",
    "test_result = ibeis.run_experiment(\n",
    "    e='scores',\n",
    "    db=db, \n",
    "    a=seperability_annot_cfgs, \n",
    "    t=['invarbest'],\n",
    "    f=[':fail=None,min_gf_timedelta=None']\n",
    ")\n",
    "_ = test_result.draw_func()"
   ]
  },
  {
   "cell_type": "code",
   "execution_count": null,
   "metadata": {
    "collapsed": false
   },
   "outputs": [],
   "source": [
    "test_result = ibeis.run_experiment(\n",
    "    e='taghist',\n",
    "    db=db, \n",
    "    a=seperability_annot_cfgs, \n",
    "    t=['invarbest'],\n",
    "    f=[':fail=None,min_gf_timedelta=None']\n",
    ")\n",
    "_ = test_result.draw_func()"
   ]
  },
  {
   "cell_type": "markdown",
   "metadata": {},
   "source": [
    "## Scores of Success Cases  (with large timedelta groundfalse)"
   ]
  },
  {
   "cell_type": "code",
   "execution_count": null,
   "metadata": {
    "collapsed": false,
    "scrolled": false
   },
   "outputs": [],
   "source": [
    "# Score Seperability of Good Cases where large timedelta gf are gone\n",
    "test_result = ibeis.run_experiment(\n",
    "    e='scores',\n",
    "    db=db, \n",
    "    a=seperability_annot_cfgs, \n",
    "    t=['invarbest'],\n",
    "    f=[':fail=False,min_gf_timedelta=12h']\n",
    ")\n",
    "_ = test_result.draw_func()"
   ]
  },
  {
   "cell_type": "markdown",
   "metadata": {},
   "source": [
    "## Scores of All Cases (with large timedelta groundfalse) "
   ]
  },
  {
   "cell_type": "code",
   "execution_count": null,
   "metadata": {
    "collapsed": false,
    "scrolled": false
   },
   "outputs": [],
   "source": [
    "# Score Seperability of \n",
    "test_result = ibeis.run_experiment(\n",
    "    e='scores',\n",
    "    db=db, \n",
    "    a=seperability_annot_cfgs, \n",
    "    t=['invarbest'],\n",
    "    f=[':fail=None,min_gf_timedelta=12h']\n",
    ") \n",
    "_ = test_result.draw_func()"
   ]
  },
  {
   "cell_type": "code",
   "execution_count": null,
   "metadata": {
    "collapsed": false,
    "scrolled": false
   },
   "outputs": [],
   "source": [
    "# Investigate the reasons for the high scoring groundfalse cases\n",
    "test_result = ibeis.run_experiment(\n",
    "    e='taghist',\n",
    "    db=db, \n",
    "    a=['timecontrolled'], \n",
    "    t=['invarbest'],\n",
    "    f=[':fail=None,min_gf_timedelta=12h']\n",
    ")\n",
    "_ = test_result.draw_func()"
   ]
  },
  {
   "cell_type": "markdown",
   "metadata": {
    "collapsed": true
   },
   "source": [
    "# Tags of all failure cases"
   ]
  },
  {
   "cell_type": "code",
   "execution_count": null,
   "metadata": {
    "collapsed": false
   },
   "outputs": [],
   "source": [
    "test_result = ibeis.run_experiment(\n",
    "    e='taghist',\n",
    "    db=db, \n",
    "    a=seperability_annot_cfgs, \n",
    "    t=['invarbest'],\n",
    "    f=[':fail=True,min_gf_timedelta=None']\n",
    ")\n",
    "_ = test_result.draw_func()"
   ]
  },
  {
   "cell_type": "markdown",
   "metadata": {},
   "source": [
    "# Tags of failure cases (largetimedelta groundfalse)"
   ]
  },
  {
   "cell_type": "code",
   "execution_count": null,
   "metadata": {
    "collapsed": false
   },
   "outputs": [],
   "source": [
    "test_result = ibeis.run_experiment(\n",
    "    e='taghist',\n",
    "    db=db, \n",
    "    a=seperability_annot_cfgs, \n",
    "    t=['invarbest'],\n",
    "    f=[':fail=True,min_gf_timedelta=12h']\n",
    ")\n",
    "_ = test_result.draw_func()"
   ]
  },
  {
   "cell_type": "markdown",
   "metadata": {},
   "source": [
    "------------------"
   ]
  },
  {
   "cell_type": "markdown",
   "metadata": {},
   "source": [
    "# Individual Results \n",
    "* Higher scores are on the Left\n",
    "* Groundtrue matches have a green border"
   ]
  },
  {
   "cell_type": "code",
   "execution_count": null,
   "metadata": {
    "collapsed": true
   },
   "outputs": [],
   "source": [
    "t = ['invarbest']\n",
    "a = seperability_annot_cfgs\n",
    "draw_case_kw = dict(show_in_notebook=True, annot_modes=[0, 1])"
   ]
  },
  {
   "cell_type": "markdown",
   "metadata": {},
   "source": [
    "### Highest Scoring Success Cases"
   ]
  },
  {
   "cell_type": "code",
   "execution_count": null,
   "metadata": {
    "collapsed": false,
    "scrolled": false
   },
   "outputs": [],
   "source": [
    "test_result = ibeis.run_experiment(\n",
    "    e='draw_cases',\n",
    "    db=db, \n",
    "    a=a, \n",
    "    t=t,\n",
    "    f=[':fail=False,min_gf_timedelta=12h,index=0:2,orderby=gtscore,reverse=True,without_gf_tag=Photobomb'],\n",
    "    **draw_case_kw)\n",
    "_ = test_result.draw_func()"
   ]
  },
  {
   "cell_type": "markdown",
   "metadata": {},
   "source": [
    "### Failure Cases (sorted by groundtrue score)"
   ]
  },
  {
   "cell_type": "code",
   "execution_count": null,
   "metadata": {
    "collapsed": false,
    "scrolled": false
   },
   "outputs": [],
   "source": [
    "test_result = ibeis.run_experiment(\n",
    "    e='draw_cases',\n",
    "    db=db, \n",
    "    a=a, \n",
    "    t=t,\n",
    "    f=[':fail=True,min_gf_timedelta=12h,index=0:3,orderby=gtscore,reverse=True'],\n",
    "    **ut.augdict(draw_case_kw, annot_modes=[1]))\n",
    "_ = test_result.draw_func()"
   ]
  },
  {
   "cell_type": "markdown",
   "metadata": {},
   "source": [
    "### Failure Cases (sorted by groundfalse score) "
   ]
  },
  {
   "cell_type": "code",
   "execution_count": null,
   "metadata": {
    "collapsed": false,
    "scrolled": false
   },
   "outputs": [],
   "source": [
    "test_result = ibeis.run_experiment(\n",
    "    e='draw_cases',\n",
    "    db=db, \n",
    "    a=a, \n",
    "    t=t,\n",
    "    f=[':fail=True,min_gf_timedelta=12h,index=0:3,orderby=gfscore,reverse=True'],\n",
    "    **draw_case_kw)\n",
    "_ = test_result.draw_func()"
   ]
  },
  {
   "cell_type": "markdown",
   "metadata": {},
   "source": [
    "### Failure Cases (sorted by groundfalse score and no timedelta restriction) "
   ]
  },
  {
   "cell_type": "code",
   "execution_count": null,
   "metadata": {
    "collapsed": false,
    "scrolled": false
   },
   "outputs": [],
   "source": [
    "test_result = ibeis.run_experiment(\n",
    "    e='draw_cases',\n",
    "    db=db, \n",
    "    a=a, \n",
    "    t=t,\n",
    "    f=[':fail=True,index=0:2,orderby=gfscore,reverse=True'],\n",
    "    **draw_case_kw)\n",
    "_ = test_result.draw_func()"
   ]
  },
  {
   "cell_type": "markdown",
   "metadata": {},
   "source": [
    "## Interesting Tags"
   ]
  },
  {
   "cell_type": "code",
   "execution_count": null,
   "metadata": {
    "collapsed": false,
    "scrolled": false
   },
   "outputs": [],
   "source": [
    "test_result = ibeis.run_experiment(\n",
    "    e='draw_cases',\n",
    "    db=db, \n",
    "    a=a, \n",
    "    t=t,\n",
    "    #t=['default', 'invarbest'],\n",
    "    f=[':index=0:5,with_tag=interesting'],\n",
    "    **draw_case_kw)\n",
    "_ = test_result.draw_func()"
   ]
  },
  {
   "cell_type": "markdown",
   "metadata": {},
   "source": [
    "#### Specific Interesting Tag (varying pipecfg)"
   ]
  },
  {
   "cell_type": "code",
   "execution_count": null,
   "metadata": {
    "collapsed": false,
    "scrolled": false
   },
   "outputs": [],
   "source": [
    "test_result = ibeis.run_experiment(\n",
    "    e='draw_cases',\n",
    "    db=db, \n",
    "    a=a, \n",
    "    #t=t,\n",
    "    t=['default', 'invarbest', 'invarbest:SV=False'],\n",
    "    qaid_override=[2604],\n",
    "    **draw_case_kw)\n",
    "_ = test_result.draw_func()"
   ]
  },
  {
   "cell_type": "markdown",
   "metadata": {},
   "source": [
    "## Occlusion Tags"
   ]
  },
  {
   "cell_type": "code",
   "execution_count": null,
   "metadata": {
    "collapsed": false,
    "scrolled": false
   },
   "outputs": [],
   "source": [
    "test_result = ibeis.run_experiment(\n",
    "    e='draw_cases',\n",
    "    db=db, \n",
    "    a=a, \n",
    "    t=t,\n",
    "    f=[':index=0:10,with_tag=occlusion,without_gf_tag=Photobomb,without_gt_tag=viewpoint'],\n",
    "    **draw_case_kw)\n",
    "_ = test_result.draw_func()"
   ]
  },
  {
   "cell_type": "markdown",
   "metadata": {},
   "source": [
    "### Photobomb Cases"
   ]
  },
  {
   "cell_type": "code",
   "execution_count": null,
   "metadata": {
    "collapsed": false,
    "scrolled": false
   },
   "outputs": [],
   "source": [
    "test_result = ibeis.run_experiment(\n",
    "    e='draw_cases',\n",
    "    db=db, \n",
    "    a=a, \n",
    "    t=t,\n",
    "    f=[':index=0:7:2,with_tag=Photobomb'],\n",
    "    **draw_case_kw)\n",
    "_ = test_result.draw_func()"
   ]
  },
  {
   "cell_type": "markdown",
   "metadata": {
    "collapsed": true
   },
   "source": [
    "It still seems unacceptable that even a correctly matched animal should have a score less than 1. \n"
   ]
  }
 ],
 "metadata": {
  "kernelspec": {
   "display_name": "Python 2",
   "language": "python",
   "name": "python2"
  },
  "language_info": {
   "codemirror_mode": {
    "name": "ipython",
    "version": 2
   },
   "file_extension": ".py",
   "mimetype": "text/x-python",
   "name": "python",
   "nbconvert_exporter": "python",
   "pygments_lexer": "ipython2",
   "version": "2.7.6"
  }
 },
 "nbformat": 4,
 "nbformat_minor": 0
}
